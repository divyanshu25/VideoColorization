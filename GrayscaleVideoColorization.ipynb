{
 "cells": [
  {
   "cell_type": "code",
   "execution_count": 17,
   "metadata": {},
   "outputs": [
    {
     "name": "stderr",
     "output_type": "stream",
     "text": [
      "100%|██████████| 460/460 [00:00<00:00, 782.86frames/s]"
     ]
    },
    {
     "name": "stdout",
     "output_type": "stream",
     "text": [
      "List of scenes obtained:\n",
      "    Scene  1: Start 00:00:00.834 / Frame 20, End 00:00:03.754 / Frame 90\n",
      "    Scene  2: Start 00:00:03.754 / Frame 90, End 00:00:08.759 / Frame 210\n",
      "    Scene  3: Start 00:00:08.759 / Frame 210, End 00:00:10.802 / Frame 259\n",
      "    Scene  4: Start 00:00:10.802 / Frame 259, End 00:00:15.599 / Frame 374\n",
      "    Scene  5: Start 00:00:15.599 / Frame 374, End 00:00:19.186 / Frame 460\n"
     ]
    },
    {
     "name": "stderr",
     "output_type": "stream",
     "text": [
      "\n"
     ]
    }
   ],
   "source": [
    "import os\n",
    "\n",
    "import scenedetect\n",
    "from scenedetect.video_manager import VideoManager\n",
    "from scenedetect.scene_manager import SceneManager\n",
    "from scenedetect.frame_timecode import FrameTimecode\n",
    "from scenedetect.stats_manager import StatsManager\n",
    "from scenedetect.detectors import ContentDetector\n",
    "\n",
    "STATS_FILE_PATH = 'testvideo.stats.csv'\n",
    "\n",
    "# Create a video_manager point to video file testvideo.mp4. Note that multiple\n",
    "# videos can be appended by simply specifying more file paths in the list\n",
    "# passed to the VideoManager constructor. Note that appending multiple videos\n",
    "# requires that they all have the same frame size, and optionally, framerate.\n",
    "video_manager = VideoManager(['goldeneye.mp4'])\n",
    "stats_manager = StatsManager()\n",
    "scene_manager = SceneManager(stats_manager)\n",
    "# Add ContentDetector algorithm (constructor takes detector options like threshold).\n",
    "scene_manager.add_detector(ContentDetector())\n",
    "base_timecode = video_manager.get_base_timecode()\n",
    "\n",
    "try:\n",
    "    # If stats file exists, load it.\n",
    "    if os.path.exists(STATS_FILE_PATH):\n",
    "        # Read stats from CSV file opened in read mode:\n",
    "        with open(STATS_FILE_PATH, 'r') as stats_file:\n",
    "            stats_manager.load_from_csv(stats_file, base_timecode)\n",
    "\n",
    "    start_time = base_timecode + 20     # 00:00:00.667\n",
    "    end_time = base_timecode + 20.0     # 00:00:20.000\n",
    "    # Set video_manager duration to read frames from 00:00:00 to 00:00:20.\n",
    "    video_manager.set_duration(start_time=start_time, end_time=end_time)\n",
    "\n",
    "    # Set downscale factor to improve processing speed.\n",
    "    video_manager.set_downscale_factor()\n",
    "\n",
    "    # Start video_manager.\n",
    "    video_manager.start()\n",
    "\n",
    "    # Perform scene detection on video_manager.\n",
    "    scene_manager.detect_scenes(frame_source=video_manager)\n",
    "\n",
    "    # Obtain list of detected scenes.\n",
    "    scene_list = scene_manager.get_scene_list(base_timecode)\n",
    "    # Like FrameTimecodes, each scene in the scene_list can be sorted if the\n",
    "    # list of scenes becomes unsorted.\n",
    "\n",
    "    print('List of scenes obtained:')\n",
    "    for i, scene in enumerate(scene_list):\n",
    "        print('    Scene %2d: Start %s / Frame %d, End %s / Frame %d' % (\n",
    "            i+1,\n",
    "            scene[0].get_timecode(), scene[0].get_frames(),\n",
    "            scene[1].get_timecode(), scene[1].get_frames(),))\n",
    "        \n",
    "    # We only write to the stats file if a save is required:\n",
    "    if stats_manager.is_save_required():\n",
    "        with open(STATS_FILE_PATH, 'w') as stats_file:\n",
    "            stats_manager.save_to_csv(stats_file, base_timecode)\n",
    "\n",
    "finally:\n",
    "    video_manager.release()"
   ]
  },
  {
   "cell_type": "code",
   "execution_count": 10,
   "metadata": {},
   "outputs": [
    {
     "data": {
      "text/plain": [
       "True"
      ]
     },
     "execution_count": 10,
     "metadata": {},
     "output_type": "execute_result"
    }
   ],
   "source": [
    "scenedetect.video_splitter.is_ffmpeg_available()"
   ]
  },
  {
   "cell_type": "code",
   "execution_count": 15,
   "metadata": {},
   "outputs": [
    {
     "ename": "IndexError",
     "evalue": "string index out of range",
     "output_type": "error",
     "traceback": [
      "\u001b[0;31m---------------------------------------------------------------------------\u001b[0m",
      "\u001b[0;31mIndexError\u001b[0m                                Traceback (most recent call last)",
      "\u001b[0;32m<ipython-input-15-f4fbc3225f0c>\u001b[0m in \u001b[0;36m<module>\u001b[0;34m\u001b[0m\n\u001b[0;32m----> 1\u001b[0;31m \u001b[0mscenedetect\u001b[0m\u001b[0;34m.\u001b[0m\u001b[0mvideo_splitter\u001b[0m\u001b[0;34m.\u001b[0m\u001b[0msplit_video_ffmpeg\u001b[0m\u001b[0;34m(\u001b[0m\u001b[0;34m[\u001b[0m\u001b[0;34m'goldeneye.mp4'\u001b[0m\u001b[0;34m]\u001b[0m\u001b[0;34m,\u001b[0m \u001b[0;34m'testvideo.stats.csv'\u001b[0m\u001b[0;34m,\u001b[0m \u001b[0;34m'-scene'\u001b[0m\u001b[0;34m,\u001b[0m \u001b[0;34m'xxx'\u001b[0m\u001b[0;34m,\u001b[0m \u001b[0marg_override\u001b[0m\u001b[0;34m=\u001b[0m\u001b[0;34m'-c:v libx264 -preset fast -crf 21 -c:a copy'\u001b[0m\u001b[0;34m,\u001b[0m \u001b[0mhide_progress\u001b[0m\u001b[0;34m=\u001b[0m\u001b[0;32mFalse\u001b[0m\u001b[0;34m,\u001b[0m \u001b[0msuppress_output\u001b[0m\u001b[0;34m=\u001b[0m\u001b[0;32mFalse\u001b[0m\u001b[0;34m)\u001b[0m\u001b[0;34m\u001b[0m\u001b[0;34m\u001b[0m\u001b[0m\n\u001b[0m",
      "\u001b[0;32m/usr/local/lib/python3.7/site-packages/scenedetect/video_splitter.py\u001b[0m in \u001b[0;36msplit_video_ffmpeg\u001b[0;34m(input_video_paths, scene_list, output_file_template, video_name, arg_override, hide_progress, suppress_output)\u001b[0m\n\u001b[1;32m    211\u001b[0m     \u001b[0;32mtry\u001b[0m\u001b[0;34m:\u001b[0m\u001b[0;34m\u001b[0m\u001b[0;34m\u001b[0m\u001b[0m\n\u001b[1;32m    212\u001b[0m         \u001b[0mprogress_bar\u001b[0m \u001b[0;34m=\u001b[0m \u001b[0;32mNone\u001b[0m\u001b[0;34m\u001b[0m\u001b[0;34m\u001b[0m\u001b[0m\n\u001b[0;32m--> 213\u001b[0;31m         \u001b[0mtotal_frames\u001b[0m \u001b[0;34m=\u001b[0m \u001b[0mscene_list\u001b[0m\u001b[0;34m[\u001b[0m\u001b[0;34m-\u001b[0m\u001b[0;36m1\u001b[0m\u001b[0;34m]\u001b[0m\u001b[0;34m[\u001b[0m\u001b[0;36m1\u001b[0m\u001b[0;34m]\u001b[0m\u001b[0;34m.\u001b[0m\u001b[0mget_frames\u001b[0m\u001b[0;34m(\u001b[0m\u001b[0;34m)\u001b[0m \u001b[0;34m-\u001b[0m \u001b[0mscene_list\u001b[0m\u001b[0;34m[\u001b[0m\u001b[0;36m0\u001b[0m\u001b[0;34m]\u001b[0m\u001b[0;34m[\u001b[0m\u001b[0;36m0\u001b[0m\u001b[0;34m]\u001b[0m\u001b[0;34m.\u001b[0m\u001b[0mget_frames\u001b[0m\u001b[0;34m(\u001b[0m\u001b[0;34m)\u001b[0m\u001b[0;34m\u001b[0m\u001b[0;34m\u001b[0m\u001b[0m\n\u001b[0m\u001b[1;32m    214\u001b[0m         \u001b[0;32mif\u001b[0m \u001b[0mtqdm\u001b[0m \u001b[0;32mand\u001b[0m \u001b[0;32mnot\u001b[0m \u001b[0mhide_progress\u001b[0m\u001b[0;34m:\u001b[0m\u001b[0;34m\u001b[0m\u001b[0;34m\u001b[0m\u001b[0m\n\u001b[1;32m    215\u001b[0m             \u001b[0mprogress_bar\u001b[0m \u001b[0;34m=\u001b[0m \u001b[0mtqdm\u001b[0m\u001b[0;34m(\u001b[0m\u001b[0mtotal\u001b[0m\u001b[0;34m=\u001b[0m\u001b[0mtotal_frames\u001b[0m\u001b[0;34m,\u001b[0m \u001b[0munit\u001b[0m\u001b[0;34m=\u001b[0m\u001b[0;34m'frame'\u001b[0m\u001b[0;34m,\u001b[0m \u001b[0mminiters\u001b[0m\u001b[0;34m=\u001b[0m\u001b[0;36m1\u001b[0m\u001b[0;34m)\u001b[0m\u001b[0;34m\u001b[0m\u001b[0;34m\u001b[0m\u001b[0m\n",
      "\u001b[0;31mIndexError\u001b[0m: string index out of range"
     ]
    }
   ],
   "source": [
    "scenedetect.video_splitter.split_video_ffmpeg(['goldeneye.mp4'], 'testvideo.stats.csv', '-scene', 'xxx', arg_override='-c:v libx264 -preset fast -crf 21 -c:a copy', hide_progress=False, suppress_output=False)"
   ]
  },
  {
   "cell_type": "code",
   "execution_count": null,
   "metadata": {},
   "outputs": [],
   "source": []
  }
 ],
 "metadata": {
  "kernelspec": {
   "display_name": "Python 3",
   "language": "python",
   "name": "python3"
  },
  "language_info": {
   "codemirror_mode": {
    "name": "ipython",
    "version": 3
   },
   "file_extension": ".py",
   "mimetype": "text/x-python",
   "name": "python",
   "nbconvert_exporter": "python",
   "pygments_lexer": "ipython3",
   "version": "3.7.4"
  }
 },
 "nbformat": 4,
 "nbformat_minor": 2
}
